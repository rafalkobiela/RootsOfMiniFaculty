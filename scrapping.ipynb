{
 "cells": [
  {
   "cell_type": "code",
   "execution_count": 2,
   "metadata": {},
   "outputs": [],
   "source": [
    "import pandas as pd\n",
    "import numpy as np\n",
    "from bs4 import BeautifulSoup\n",
    "import urllib3\n",
    "import certifi\n",
    "import re\n",
    "from collections import defaultdict\n",
    "from copy import copy, deepcopy"
   ]
  },
  {
   "cell_type": "code",
   "execution_count": 3,
   "metadata": {},
   "outputs": [],
   "source": [
    "http = urllib3.PoolManager(\n",
    "     cert_reqs='CERT_REQUIRED',\n",
    "     ca_certs=certifi.where())"
   ]
  },
  {
   "cell_type": "code",
   "execution_count": 4,
   "metadata": {},
   "outputs": [],
   "source": [
    "numery = []\n",
    "with open('numery.txt') as f:\n",
    "    numery = [int(n) for n in f.read().splitlines()]"
   ]
  },
  {
   "cell_type": "code",
   "execution_count": 5,
   "metadata": {},
   "outputs": [],
   "source": [
    "def link_from_num(idd):\n",
    "    return \"http://mathgenealogy.org/id.php?id=\" + str(idd)"
   ]
  },
  {
   "cell_type": "code",
   "execution_count": 265,
   "metadata": {},
   "outputs": [
    {
     "name": "stdout",
     "output_type": "stream",
     "text": [
      "\n",
      "Agnieszka  Badeńska \n"
     ]
    }
   ],
   "source": [
    "for idd in numery:\n",
    "    link = link_from_num(idd)\n",
    "    page = http.request('GET', link, preload_content=False)\n",
    "    soup = BeautifulSoup(page.read(), 'html.parser')\n",
    "    mat_name = soup.find('h2')\n",
    "    name = str(mat_name.string)\n",
    "    break"
   ]
  },
  {
   "cell_type": "code",
   "execution_count": 6,
   "metadata": {},
   "outputs": [],
   "source": [
    "def scrap_id(idd):\n",
    "    link = link_from_num(idd)\n",
    "    page = http.request('GET', link, preload_content=False)\n",
    "    soup = BeautifulSoup(page.read(), 'html.parser')\n",
    "    mat_name = soup.find('h2')\n",
    "    try:\n",
    "        name = str(mat_name.string).strip()\n",
    "        st = mat_name.fetchNextSiblings()\n",
    "    except Exception as exc:\n",
    "        print(exc)\n",
    "        print(idd)\n",
    "        print(mat_name)\n",
    "        print(soup)\n",
    "    advisors = []\n",
    "    for e in st:\n",
    "        if str(e).find(\"Advisor\") != -1:\n",
    "            res = re.search(r\"id=(\\d*)\", str(e))\n",
    "            try:\n",
    "                advisors.append(int(res.group(1)))\n",
    "            except Exception as exc:\n",
    "                if str(e).find(\"Unknown\") != -1:\n",
    "                    advisors.append(-1)\n",
    "                else:\n",
    "                    print(\"ERRRRROR\")\n",
    "                    print(exc)\n",
    "                    print(e)\n",
    "                    print(idd)\n",
    "    d = dict()\n",
    "    d['advisors'] = copy(advisors)\n",
    "    d['name'] = name\n",
    "    return d"
   ]
  },
  {
   "cell_type": "code",
   "execution_count": 7,
   "metadata": {},
   "outputs": [],
   "source": [
    "db = defaultdict(dict)\n",
    "\n",
    "for idd in numery:\n",
    "    db[idd] = deepcopy(scrap_id(idd))"
   ]
  },
  {
   "cell_type": "code",
   "execution_count": 8,
   "metadata": {},
   "outputs": [],
   "source": [
    "#db_hist = deepcopy(db)"
   ]
  },
  {
   "cell_type": "code",
   "execution_count": 9,
   "metadata": {},
   "outputs": [],
   "source": [
    "#db = deepcopy(db_hist)"
   ]
  },
  {
   "cell_type": "code",
   "execution_count": 10,
   "metadata": {},
   "outputs": [],
   "source": [
    "depth = 10\n",
    "db_last = db\n",
    "db_new = defaultdict(dict)\n",
    "for i in range(depth):\n",
    "    for k, d in db_last.items():\n",
    "        for adv_id in d['advisors']:\n",
    "            if not adv_id in db and not adv_id in db_new and adv_id != -1:\n",
    "                db_new[adv_id] = deepcopy(scrap_id(adv_id))\n",
    "    db = {**db, **db_new}\n",
    "    db_last = deepcopy(db_new)"
   ]
  },
  {
   "cell_type": "code",
   "execution_count": 12,
   "metadata": {},
   "outputs": [],
   "source": [
    "import networkx as nx\n",
    "import matplotlib.pyplot as plt\n",
    "import pygraphviz as pgv\n",
    "import pickle"
   ]
  },
  {
   "cell_type": "code",
   "execution_count": 34,
   "metadata": {},
   "outputs": [
    {
     "data": {
      "text/plain": [
       "{155901: {'advisors': [137002], 'name': 'Agnieszka  Badeńska'},\n",
       " 168141: {'advisors': [133360], 'name': 'Czesław  Bagiński'},\n",
       " 236278: {'advisors': [234593], 'name': 'Krystian Waldemar Baniak'},\n",
       " 125996: {'advisors': [125944], 'name': 'Konstancja  Bobecka'},\n",
       " 191656: {'advisors': [132016], 'name': 'Nadzieja  Borowik'},\n",
       " 149083: {'advisors': [126075], 'name': 'T.  Brengos'},\n",
       " 57480: {'advisors': [18596], 'name': 'Włodzimierz  Bryc'},\n",
       " 185993: {'advisors': [125944], 'name': 'Joanna  Chachulska'},\n",
       " 188601: {'advisors': [104953], 'name': 'Konrad  Ciecierski'},\n",
       " 216475: {'advisors': [30182], 'name': 'Janusz  Czyż'},\n",
       " 125997: {'advisors': [125944], 'name': 'Anna  Dembinska'},\n",
       " 155731: {'advisors': [97165], 'name': 'Asen Lubomirov Dontchev'},\n",
       " 124925: {'advisors': [124348], 'name': 'Ewa  Drabik'},\n",
       " 108985: {'advisors': [75005], 'name': 'Andrzej  Dzielinski'},\n",
       " 134439: {'advisors': [60324], 'name': 'Krystyna  Dzierzbicka-Mazaraki'},\n",
       " 165964: {'advisors': [162216], 'name': 'Muktar Eltaher Elzobi'},\n",
       " 162783: {'advisors': [137002], 'name': 'Piotr  Gałązka'},\n",
       " 241608: {'advisors': [130245], 'name': 'Ewa  Girejko'},\n",
       " 112084: {'advisors': [33753], 'name': 'Przemysław  Górka'},\n",
       " 142696: {'advisors': [140765], 'name': 'Marcin  Iwanowski'},\n",
       " 189154: {'advisors': [126075], 'name': 'Bartosz M. Jabłoński'},\n",
       " 193607: {'advisors': [195202], 'name': 'Konstanty  Junosza-Szaniawski'},\n",
       " 236277: {'advisors': [234593], 'name': 'Paweł  Koszut'},\n",
       " 137002: {'advisors': [69809], 'name': 'Janina  Kotus'},\n",
       " 185995: {'advisors': [125944], 'name': 'Jan Marek Kowalski'},\n",
       " 69809: {'advisors': [22600], 'name': 'Karol  Krzyżewski'},\n",
       " 148608: {'advisors': [33753], 'name': 'Adam  Kubica'},\n",
       " 236279: {'advisors': [234593], 'name': 'Przemysław Jacek Kukiełka'},\n",
       " 102032: {'advisors': [97165], 'name': 'Stanisław  Kurcyusz'},\n",
       " 162216: {'advisors': [75416], 'name': 'Zbigniew  Lonc'},\n",
       " 75498: {'advisors': [75416], 'name': 'Maciej Jan Maczynski'},\n",
       " 44041: {'advisors': [31086], 'name': 'Andrzej Z. Manitius'},\n",
       " 126084: {'advisors': [126075], 'name': 'K.  Matczak'},\n",
       " 241605: {'advisors': [130245], 'name': 'Dorota  Mozyrska'},\n",
       " 126086: {'advisors': [126075], 'name': 'A.  Mucka'},\n",
       " 134440: {'advisors': [60324], 'name': 'Jerzy  Muszyński'},\n",
       " 165969: {'advisors': [162216], 'name': 'Pawel  Naroski'},\n",
       " 125377: {'advisors': [49966, 227893], 'name': 'Wacław  Olszak'},\n",
       " 165963: {'advisors': [162216], 'name': 'Krzysztof  Parol'},\n",
       " 126080: {'advisors': [126075], 'name': 'Agata  Pilitowska'},\n",
       " 165966: {'advisors': [162216], 'name': 'Monika  Pszczola'},\n",
       " 126082: {'advisors': [126075], 'name': 'Krzysztof J. Pszczoła'},\n",
       " 236266: {'advisors': [234593], 'name': 'Omar  Reyad'},\n",
       " 216476: {'advisors': [30182], 'name': 'Jan  Rogulski'},\n",
       " 126075: {'advisors': [75416], 'name': 'Anna B. Romanowska'},\n",
       " 126078: {'advisors': [126075], 'name': 'Barbara  Roszkowska-Lech'},\n",
       " 236274: {'advisors': [234593], 'name': 'Damian Józef Rusinek'},\n",
       " 133627: {'advisors': [174151], 'name': 'Andrzej  Ruszczynski'},\n",
       " 236280: {'advisors': [234593], 'name': 'Marta Magdalena Rybczyńska'},\n",
       " 191020: {'advisors': [60309], 'name': 'Danuta  Sadowska'},\n",
       " 236265: {'advisors': [234593], 'name': 'Mariusz  Sepczuk'},\n",
       " 149082: {'advisors': [126075], 'name': 'P.  Slusarski'},\n",
       " 57597: {'advisors': [18596], 'name': 'Wlodzimierz Henryk Smolenski'},\n",
       " 187597: {'advisors': [97165], 'name': 'Andrzej  Stachurski'},\n",
       " 87890: {'advisors': [75514], 'name': 'Zofia Aleksandra Stepien'},\n",
       " 126085: {'advisors': [126075], 'name': 'Michał Marek Stronkowski'},\n",
       " 236267: {'advisors': [234593], 'name': 'Paweł  Szałachowski'},\n",
       " 150646: {'advisors': [139395], 'name': 'Bronisław  Tembrowski'},\n",
       " 150647: {'advisors': [139395], 'name': 'Bronisław  Tembrowski'},\n",
       " 126081: {'advisors': [126075], 'name': 'Shaban A. Traina'},\n",
       " 236276: {'advisors': [234593], 'name': 'Michał  Trojnara'},\n",
       " 107317: {'advisors': [75416], 'name': 'Miroslaw  Truszczynski'},\n",
       " 165970: {'advisors': [162216], 'name': 'Michal  Tuczynski'},\n",
       " 125944: {'advisors': [125947], 'name': 'Jacek  Wesolowski'},\n",
       " 185994: {'advisors': [125944], 'name': 'Piotr  Witkowski'},\n",
       " 126079: {'advisors': [126075], 'name': 'Elżbieta  Zając'},\n",
       " 126083: {'advisors': [126075], 'name': 'Anna  Zamojska-Dzienio'},\n",
       " 138692: {'advisors': [60315, -1], 'name': 'Zbigniew  Żekanowski'},\n",
       " 236263: {'advisors': [234593], 'name': 'Aneta Maria Zwierko'},\n",
       " 133360: {'advisors': [131518], 'name': 'Jan  Ambrosiewicz'},\n",
       " 234593: {'advisors': [232848], 'name': 'Zbigniew Adam Kotulski'},\n",
       " 132016: {'advisors': [132662], 'name': 'Włodzimierz  Waliszewski'},\n",
       " 18596: {'advisors': [51936], 'name': 'Stanisław  Kwapień'},\n",
       " 104953: {'advisors': [105447], 'name': 'Zbigniew W. Ras'},\n",
       " 30182: {'advisors': [13056], 'name': 'Krzysztof  Maurin'},\n",
       " 97165: {'advisors': [-1], 'name': 'Andrzej  Wierzbicki'},\n",
       " 124348: {'advisors': [86241], 'name': 'Lukasz  Stettner'},\n",
       " 75005: {'advisors': [-1], 'name': 'Tadeusz  Kaczorek'},\n",
       " 60324: {'advisors': [60313], 'name': 'Krzysztof  Tatarkiewicz'},\n",
       " 130245: {'advisors': [48324], 'name': 'Zbigniew  Bartosiewicz'},\n",
       " 33753: {'advisors': [17379], 'name': 'Piotr  Rybka'},\n",
       " 140765: {'advisors': [101243], 'name': 'Jean Paul Frédéric Serra'},\n",
       " 195202: {'advisors': [-1], 'name': 'Adam  Idzik'},\n",
       " 22600: {'advisors': [489], 'name': 'Roman  Sikorski'},\n",
       " 75416: {'advisors': [22600], 'name': 'Tadeusz  Traczyk'},\n",
       " 31086: {'advisors': [-1], 'name': 'Władysław  Findeisen'},\n",
       " 49966: {'advisors': [49524],\n",
       "  'name': 'Lothar Schrutka Edler von Rechtenstamm'},\n",
       " 227893: {'advisors': [-1], 'name': 'Maksymilian Tytus Huber'},\n",
       " 174151: {'advisors': [-1], 'name': 'Jacek  Szymanowski'},\n",
       " 60309: {'advisors': [12546], 'name': 'Witold  Pogorzelski'},\n",
       " 75514: {'advisors': [87888], 'name': 'Aleksy  Tralle'},\n",
       " 139395: {'advisors': [139394], 'name': 'Roman  Suszko'},\n",
       " 125947: {'advisors': [7383], 'name': 'Agnieszka  Plucińska'},\n",
       " 60315: {'advisors': [60313], 'name': 'Włodzimierz  Wrona'},\n",
       " 131518: {'advisors': [12545], 'name': 'Antoni  Wakulicz'},\n",
       " 232848: {'advisors': [231191], 'name': 'Kazimierz  Sobczyk'},\n",
       " 132662: {'advisors': [132815], 'name': 'Zygmunt  Charzyński'},\n",
       " 51936: {'advisors': [51907], 'name': 'Zbigniew  Ciesielski'},\n",
       " 105447: {'advisors': [114616], 'name': 'Zdzisław  Pawlak'},\n",
       " 13056: {'advisors': [12681], 'name': 'Stanislaw  Mazur'},\n",
       " 86241: {'advisors': [51936], 'name': 'Jerzy  Zabczyk'},\n",
       " 60313: {'advisors': [39071], 'name': 'Tadeusz  Ważewski'},\n",
       " 48324: {'advisors': [60313], 'name': 'Czeslaw  Olech'},\n",
       " 17379: {'advisors': [4367], 'name': 'Robert Vita Kohn'},\n",
       " 101243: {'advisors': [33053, 25287],\n",
       "  'name': 'George Francois Paul Marie Matheron'},\n",
       " 489: {'advisors': [24546], 'name': 'Andrzej  Mostowski'},\n",
       " 49524: {'advisors': [18331], 'name': 'Franz Carl Josef Mertens'},\n",
       " 12546: {'advisors': [34254], 'name': 'Stanislaw  Zaremba'},\n",
       " 87888: {'advisors': [10480], 'name': 'Anatoliy  Fedenko'},\n",
       " 139394: {'advisors': [13344], 'name': 'Kazimierz  Ajdukiewicz'},\n",
       " 7383: {'advisors': [7298], 'name': 'Hugo Dyonizy Steinhaus'},\n",
       " 12545: {'advisors': [12546], 'name': 'Wacław  Sierpiński'},\n",
       " 231191: {'advisors': [230042], 'name': 'Sylwester Damazy Kaliski'},\n",
       " 132815: {'advisors': [12546], 'name': 'Władysław  Nikliborc'},\n",
       " 51907: {'advisors': [85756], 'name': 'Władysław Roman Orlicz'},\n",
       " 114616: {'advisors': [22591], 'name': 'Henryk  Greniewski'},\n",
       " 12681: {'advisors': [7383], 'name': 'Stefan  Banach'},\n",
       " 39071: {'advisors': [34254], 'name': 'Émile  Borel'},\n",
       " 4367: {'advisors': [10278], 'name': 'Frederick Justin Almgren, Jr.'},\n",
       " 33053: {'advisors': [24555], 'name': 'Paul Pierre Lévy'},\n",
       " 25287: {'advisors': [17947], 'name': 'Robert  Fortet'},\n",
       " 24546: {'advisors': [12547], 'name': 'Kazimierz  Kuratowski'},\n",
       " 18331: {'advisors': [25484], 'name': 'Ernst Eduard Kummer'},\n",
       " 34254: {'advisors': [26995], 'name': 'Gaston  Darboux'},\n",
       " 10480: {'advisors': [10479], 'name': 'Andrei Nikolayevich Kolmogorov'},\n",
       " 13344: {'advisors': [15176], 'name': 'Kazimierz  Twardowski'},\n",
       " 7298: {'advisors': [7404], 'name': 'David  Hilbert'},\n",
       " 230042: {'advisors': [125377], 'name': 'Stefan  Ziemba'},\n",
       " 85756: {'advisors': [73323], 'name': 'Eustachy I. Żyliński'},\n",
       " 22591: {'advisors': [13344], 'name': 'Tadeusz  Kotarbinski'},\n",
       " 10278: {'advisors': [4312], 'name': 'Herbert  Federer'},\n",
       " 24555: {'advisors': [34266], 'name': 'Jacques Salomon Hadamard'},\n",
       " 17947: {'advisors': [24555], 'name': 'René Maurice Fréchet'},\n",
       " 12547: {'advisors': [12545], 'name': 'Stefan  Mazurkiewicz'},\n",
       " 25484: {'advisors': [18603], 'name': 'Heinrich Ferdinand Scherk'},\n",
       " 26995: {'advisors': [17865], 'name': 'Michel  Chasles'},\n",
       " 10479: {'advisors': [24109], 'name': 'Nikolai Nikolayevich Luzin'},\n",
       " 15176: {'advisors': [28227], 'name': 'Franz Clemens Brentano'},\n",
       " 7404: {'advisors': [7401], 'name': 'C. L. Ferdinand (Carl Louis) Lindemann'},\n",
       " 73323: {'advisors': [55611, -1], 'name': 'Dmitry Aleksandrovich Grave'},\n",
       " 4312: {'advisors': [4931], 'name': 'Anthony Perry Morse'},\n",
       " 34266: {'advisors': [34254], 'name': 'C. Émile (Charles) Picard'},\n",
       " 18603: {'advisors': [18231], 'name': 'Friedrich Wilhelm Bessel'},\n",
       " 17865: {'advisors': [17864], 'name': 'Siméon Denis Poisson'},\n",
       " 24109: {'advisors': [24101], 'name': 'Dimitri Fedorowitsch Egorov'},\n",
       " 28227: {'advisors': [-1], 'name': 'Franz Jakob Clemens'},\n",
       " 7401: {'advisors': [7402], 'name': 'C. Felix (Christian) Klein'},\n",
       " 55611: {'advisors': [12542, 519], 'name': 'Alexander Nikolaevich Korkin'},\n",
       " 4931: {'advisors': [5879], 'name': 'Clarence Raymond Adams'},\n",
       " 18231: {'advisors': [18230], 'name': 'Carl Friedrich Gauß'},\n",
       " 17864: {'advisors': [38586, 146036], 'name': 'Joseph Louis Lagrange'},\n",
       " 24101: {'advisors': [7486], 'name': 'Nicolai Vasilievich Bugaev'},\n",
       " 7402: {'advisors': [29642], 'name': 'Julius  Plücker'},\n",
       " 12542: {'advisors': [12541], 'name': 'Pafnuty Lvovich Chebyshev'},\n",
       " 519: {'advisors': [12541], 'name': 'Osip Ivanovich Somov'},\n",
       " 5879: {'advisors': [806], 'name': 'George David Birkhoff'},\n",
       " 18230: {'advisors': [66476], 'name': 'Johann Friedrich Pfaff'},\n",
       " 38586: {'advisors': [53410], 'name': 'Leonhard  Euler'},\n",
       " 146036: {'advisors': [-1],\n",
       "  'name': 'Giovanni Battista (Giambattista) Beccaria'},\n",
       " 7486: {'advisors': [29458, -1], 'name': 'Karl Theodor Wilhelm Weierstraß'},\n",
       " 29642: {'advisors': [18231], 'name': 'Christian Ludwig Gerling'},\n",
       " 12541: {'advisors': [12540], 'name': 'Nikolai Dmitrievich Brashman'},\n",
       " 806: {'advisors': [7865], 'name': 'E. H. (Eliakim Hastings) Moore'},\n",
       " 66476: {'advisors': [57670], 'name': 'Abraham Gotthelf Kästner'},\n",
       " 53410: {'advisors': [54440], 'name': 'Johann  Bernoulli'},\n",
       " 29458: {'advisors': [57667, -1], 'name': 'Christoph  Gudermann'},\n",
       " 12540: {'advisors': [-1], 'name': 'Joseph Johann von Littrow'},\n",
       " 7865: {'advisors': [26995], 'name': 'H. A. (Hubert Anson) Newton'},\n",
       " 57670: {'advisors': [59365, 234977, 72669],\n",
       "  'name': 'Christian August Hausen'},\n",
       " 54440: {'advisors': [143084, 143011], 'name': 'Jacob  Bernoulli'},\n",
       " 57667: {'advisors': [66476], 'name': 'Bernhard Friedrich Thibaut'},\n",
       " 59365: {'advisors': [-1], 'name': 'Christian Andreas Siber'},\n",
       " 234977: {'advisors': [-1], 'name': 'Christoph  Blechschmid'},\n",
       " 72669: {'advisors': [21235], 'name': 'Johann Christoph Wichmannshausen'},\n",
       " 143084: {'advisors': [143083], 'name': 'Peter  Werenfels'},\n",
       " 143011: {'advisors': [60985], 'name': 'Nicolas  Malebranche'}}"
      ]
     },
     "execution_count": 34,
     "metadata": {},
     "output_type": "execute_result"
    }
   ],
   "source": [
    "db"
   ]
  },
  {
   "cell_type": "code",
   "execution_count": 29,
   "metadata": {},
   "outputs": [],
   "source": [
    "graph = nx.DiGraph()"
   ]
  },
  {
   "cell_type": "code",
   "execution_count": 30,
   "metadata": {},
   "outputs": [],
   "source": [
    "for mat_id, mat in db.items():\n",
    "    for adv in mat['advisors']:\n",
    "        if adv != -1:\n",
    "            graph.add_edge(adv, mat_id)"
   ]
  },
  {
   "cell_type": "code",
   "execution_count": 31,
   "metadata": {},
   "outputs": [],
   "source": [
    "graph_lab = nx.relabel_nodes(graph, {mat_id : mat['name'] for mat_id, mat in db.items()})"
   ]
  },
  {
   "cell_type": "code",
   "execution_count": 32,
   "metadata": {},
   "outputs": [],
   "source": [
    "G = nx.nx_agraph.to_agraph(graph_lab)"
   ]
  },
  {
   "cell_type": "code",
   "execution_count": 33,
   "metadata": {},
   "outputs": [],
   "source": [
    "G.layout()\n",
    "G.draw(format='png', path='g.png')"
   ]
  },
  {
   "cell_type": "code",
   "execution_count": null,
   "metadata": {},
   "outputs": [],
   "source": []
  }
 ],
 "metadata": {
  "kernelspec": {
   "display_name": "Python 3",
   "language": "python",
   "name": "python3"
  },
  "language_info": {
   "codemirror_mode": {
    "name": "ipython",
    "version": 3
   },
   "file_extension": ".py",
   "mimetype": "text/x-python",
   "name": "python",
   "nbconvert_exporter": "python",
   "pygments_lexer": "ipython3",
   "version": "3.6.6"
  }
 },
 "nbformat": 4,
 "nbformat_minor": 2
}
