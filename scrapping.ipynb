{
 "cells": [
  {
   "cell_type": "code",
   "execution_count": 2,
   "metadata": {},
   "outputs": [],
   "source": [
    "import pandas as pd\n",
    "import numpy as np\n",
    "from bs4 import BeautifulSoup\n",
    "import urllib3\n",
    "import certifi\n",
    "import re\n",
    "from collections import defaultdict\n",
    "from copy import copy, deepcopy"
   ]
  },
  {
   "cell_type": "code",
   "execution_count": 3,
   "metadata": {},
   "outputs": [],
   "source": [
    "http = urllib3.PoolManager(\n",
    "     cert_reqs='CERT_REQUIRED',\n",
    "     ca_certs=certifi.where())"
   ]
  },
  {
   "cell_type": "code",
   "execution_count": 239,
   "metadata": {},
   "outputs": [],
   "source": [
    "numery = []\n",
    "\n",
    "with open('numery_mini_ang.txt') as f:\n",
    "    numery = [int(n) for n in f.read().splitlines()]\n",
    "\n",
    "with open('numery_mini.txt') as f:\n",
    "    numery = [int(n) for n in f.read().splitlines()]\n",
    "    \n",
    "with open('numery_lwow.txt') as f:\n",
    "    numery = numery + [int(n) for n in f.read().splitlines()]\n",
    "    \n",
    "with open('numery_mim.txt') as f:\n",
    "    numery = numery + [int(n) for n in f.read().splitlines()]"
   ]
  },
  {
   "cell_type": "code",
   "execution_count": 5,
   "metadata": {},
   "outputs": [],
   "source": [
    "def link_from_num(idd):\n",
    "    return \"http://mathgenealogy.org/id.php?id=\" + str(idd)"
   ]
  },
  {
   "cell_type": "code",
   "execution_count": 49,
   "metadata": {},
   "outputs": [
    {
     "name": "stdout",
     "output_type": "stream",
     "text": [
      "155901\n",
      "2010\n",
      "Politechnika Warszawska\n"
     ]
    }
   ],
   "source": [
    "# testing\n",
    "\n",
    "for idd in numery:\n",
    "    link = link_from_num(idd)\n",
    "    page = http.request('GET', link, preload_content=False)\n",
    "    soup = BeautifulSoup(page.read(), 'html.parser')\n",
    "    mat_name = soup.find('h2')\n",
    "    name = str(mat_name.string)\n",
    "    st = mat_name.fetchNextSiblings()\n",
    "    print(idd)\n",
    "    ss = str(soup.select(\"#paddingWrapper > div:nth-child(6) > span\"))\n",
    "    print(re.search(r\".*([1-3][0-9]{3})\", ss).group(1))\n",
    "    school = soup.select_one(\"#paddingWrapper > div:nth-child(6) > span > span\")\n",
    "    print(school.string)\n",
    "    break"
   ]
  },
  {
   "cell_type": "code",
   "execution_count": 240,
   "metadata": {},
   "outputs": [],
   "source": [
    "def scrap_id(idd):\n",
    "    link = link_from_num(idd)\n",
    "    page = http.request('GET', link, preload_content=False)\n",
    "    soup = BeautifulSoup(page.read(), 'html.parser')\n",
    "    mat_name = soup.find('h2')\n",
    "    try:\n",
    "        name = str(mat_name.string).strip()\n",
    "        st = mat_name.fetchNextSiblings()\n",
    "        name_s = soup.select(\"#paddingWrapper > div:nth-child(6) > span\")\n",
    "        year = re.search(r\".*([1-3][0-9]{3})\", str(name_s))\n",
    "        if year is not None:\n",
    "            year = year.group(1)\n",
    "        else:\n",
    "            year = -1\n",
    "            print(\"No year for:\", name, idd)\n",
    "        school = soup.select_one(\"#paddingWrapper > div:nth-child(6) > span > span\").string\n",
    "    except Exception as exc:\n",
    "        print(exc)\n",
    "        print(idd)\n",
    "        print(mat_name)\n",
    "        print(soup)\n",
    "    advisors = []\n",
    "    for e in st:\n",
    "        if str(e).find(\"Advisor\") != -1:\n",
    "            res = re.search(r\"id=(\\d*)\", str(e))\n",
    "            try:\n",
    "                advisors.append(int(res.group(1)))\n",
    "            except Exception as exc:\n",
    "                if str(e).find(\"Unknown\") != -1:\n",
    "                    advisors.append(-1)\n",
    "                else:\n",
    "                    print(\"ERRRRROR\")\n",
    "                    print(exc)\n",
    "                    print(e)\n",
    "                    print(idd)\n",
    "    d = dict()\n",
    "    d['advisors'] = copy(advisors)\n",
    "    d['name'] = name\n",
    "    d['school'] = str(school)\n",
    "    d['year'] = int(year)\n",
    "    return d"
   ]
  },
  {
   "cell_type": "code",
   "execution_count": 241,
   "metadata": {},
   "outputs": [
    {
     "name": "stdout",
     "output_type": "stream",
     "text": [
      "No year for: Krystyna  Dzierzbicka-Mazaraki 134439\n",
      "No year for: Karol  Krzyżewski 69809\n",
      "No year for: Jerzy  Muszyński 134440\n",
      "No year for: Zofia  Adamowicz 22613\n",
      "No year for: Magdy Yousef Barsoom 134438\n",
      "No year for: Andrzej Tadeusz Birkholc 86232\n",
      "No year for: Ryszard  Bittner 86237\n",
      "No year for: Tomasz  Bojdecki 86240\n",
      "No year for: Maciej  Brynski 22605\n",
      "No year for: Malgorzata  Dubiel 22614\n",
      "No year for: Andrzej  Ehrenfeucht 22604\n",
      "No year for: Lej Tsin Gan 86231\n",
      "No year for: Benjamin  Goldys 68298\n",
      "No year for: Jacek  Graczyk 127971\n",
      "No year for: Wojciech  Hyb 127976\n",
      "No year for: Andrzej  Janiczak 22603\n",
      "No year for: Witold  Kolodziej 86243\n",
      "No year for: Stanislaw  Krajewski 22612\n",
      "No year for: Michal  Krynicki 22610\n",
      "No year for: Włodzimierz  Lesisz 81438\n",
      "No year for: Wan Dzien Lu 86230\n",
      "No year for: Janusz  Onyszkiewicz 22606\n",
      "No year for: Jacek   Pawelczyk 129108\n",
      "No year for: Stefan  Pokorski 129125\n",
      "No year for: Maria K. Pospieszalska 134441\n",
      "No year for: Maciej  Skwarczyński 60565\n",
      "No year for: Rafał  Sztencel 95573\n",
      "No year for: Bogusław  Szymanski 95572\n",
      "No year for: A.  Warzecha 86233\n",
      "No year for: Kazimierz  Wisniewski 22607\n",
      "No year for: Anna  Zdunik 127964\n"
     ]
    }
   ],
   "source": [
    "db = defaultdict(dict)\n",
    "\n",
    "for idd in numery:\n",
    "    db[idd] = deepcopy(scrap_id(idd))"
   ]
  },
  {
   "cell_type": "code",
   "execution_count": 61,
   "metadata": {},
   "outputs": [],
   "source": [
    "#db_hist = deepcopy(db)"
   ]
  },
  {
   "cell_type": "code",
   "execution_count": 9,
   "metadata": {},
   "outputs": [],
   "source": [
    "#db = deepcopy(db_hist)"
   ]
  },
  {
   "cell_type": "code",
   "execution_count": 242,
   "metadata": {},
   "outputs": [
    {
     "name": "stdout",
     "output_type": "stream",
     "text": [
      "No year for: Andrzej  Wierzbicki 97165\n",
      "No year for: Tadeusz  Kaczorek 75005\n",
      "No year for: Adam  Idzik 195202\n",
      "No year for: Tadeusz  Traczyk 75416\n",
      "No year for: Władysław  Findeisen 31086\n",
      "No year for: Jacek  Szymanowski 174151\n",
      "No year for: Urzyczyn  Paweł 228542\n",
      "No year for: Wojciech  Wojtynski 20830\n",
      "No year for: Jozef  Spalek 55675\n",
      "No year for: Wojciech  Niemiro 151767\n",
      "No year for: Wieslaw  Szlenk 74463\n",
      "No year for: Leslaw W. Szczerba 35198\n",
      "No year for: Piotr  Gwiazda 179958\n",
      "No year for: Jerzy  Browkin 211233\n",
      "No year for: Marek  Niezgódka 117786\n",
      "No year for: Henryk  Greniewski 114616\n",
      "No year for: Władysław  Natanson 106278\n",
      "No year for: Czeslaw  Bessaga 37038\n",
      "No year for: Pierre  Priouret 77999\n",
      "No year for: César  Macchi 191473\n",
      "No year for: Aleksei Nikolaevich Krylov 107558\n",
      "No year for: Jacques  Deny 114298\n",
      "No year for: Christopher S. Strachey 75007\n",
      "No year for: Sagdy Khasanovich Sirazhdinov 17543\n",
      "No year for: Vladimir E. Alekseev 153907\n",
      "No year for: Osip Ivanovich Somov 519\n",
      "No year for: Boris Nikolaevich Delone 74408\n",
      "No year for: Aleksandr Aleksandrovich Markov 181425\n",
      "No year for: Joseph Louis Lagrange 17864\n",
      "No year for: Søren  Rasmussen 77900\n",
      "No year for: Giovanni Battista (Giambattista) Beccaria 146036\n",
      "No year for: Christoph  Blechschmid 234977\n",
      "No year for: Ignatz  Mühlwenzel 143130\n"
     ]
    }
   ],
   "source": [
    "depth = 10\n",
    "db_last = db\n",
    "db_new = defaultdict(dict)\n",
    "for i in range(depth):\n",
    "    for k, d in db_last.items():\n",
    "        for adv_id in d['advisors']:\n",
    "            if not adv_id in db and not adv_id in db_new and adv_id != -1:\n",
    "                db_new[adv_id] = deepcopy(scrap_id(adv_id))\n",
    "    db = {**db, **db_new}\n",
    "    db_last = deepcopy(db_new)"
   ]
  },
  {
   "cell_type": "code",
   "execution_count": 12,
   "metadata": {},
   "outputs": [],
   "source": [
    "import networkx as nx\n",
    "import matplotlib.pyplot as plt\n",
    "import pygraphviz as pgv\n",
    "import pickle"
   ]
  },
  {
   "cell_type": "code",
   "execution_count": 264,
   "metadata": {},
   "outputs": [],
   "source": [
    "graph = nx.DiGraph()"
   ]
  },
  {
   "cell_type": "code",
   "execution_count": 265,
   "metadata": {},
   "outputs": [],
   "source": [
    "for mat_id, mat in db.items():\n",
    "    for adv in mat['advisors']:\n",
    "        if adv != -1:\n",
    "            g_tmp = graph\n",
    "            graph.add_edge(adv, mat_id)\n",
    "            if nx.is_forest(graph) == False:\n",
    "                graph.remove_edge(adv, mat_id)\n",
    "            "
   ]
  },
  {
   "cell_type": "code",
   "execution_count": 245,
   "metadata": {},
   "outputs": [],
   "source": [
    "graph_lab = nx.relabel_nodes(graph, {mat_id : mat['name'] for mat_id, mat in db.items()})"
   ]
  },
  {
   "cell_type": "code",
   "execution_count": 261,
   "metadata": {},
   "outputs": [],
   "source": [
    "col_converter = {\n",
    "    'Politechnika Warszawska' : 'red',\n",
    "    'Technical University of Warsaw' : 'red',\n",
    "    'Uniwersytet Warszawski' : 'green',\n",
    "    'University of Lwów' : 'blue'\n",
    "}"
   ]
  },
  {
   "cell_type": "code",
   "execution_count": 288,
   "metadata": {},
   "outputs": [],
   "source": [
    "G = nx.nx_agraph.to_agraph(graph)\n",
    "for e in G:\n",
    "    ie = int(e)\n",
    "    if ie in db:\n",
    "        e.attr['color']= col_converter.get(db[ie]['school'], 'black')\n",
    "        e.attr['label'] = db[ie]['name']\n",
    "    \n",
    "#G.node_attr['color']='blue'\n",
    "G.layout(prog='fdp')\n",
    "G.draw(format='svg', path='g.svg')"
   ]
  },
  {
   "cell_type": "code",
   "execution_count": 277,
   "metadata": {},
   "outputs": [],
   "source": [
    "res_db = defaultdict(int)\n",
    "for idd, mat in db.items():\n",
    "    for adv in mat['advisors']:\n",
    "        if adv in db:\n",
    "            if mat['school'] != db[adv]['school']:\n",
    "                direction = db[adv]['school'] + \" -> \" + mat['school']\n",
    "                res_db[direction] += 1"
   ]
  },
  {
   "cell_type": "code",
   "execution_count": 287,
   "metadata": {},
   "outputs": [
    {
     "data": {
      "text/plain": [
       "[('Instytut Podstawowych Problemów Techniki PAN -> Politechnika Warszawska',\n",
       "  10),\n",
       " ('None -> Politechnika Warszawska', 11),\n",
       " ('Universität Wien -> University of Lwów', 5),\n",
       " ('Polska Akademia Nauk -> Uniwersytet Warszawski', 10),\n",
       " ('Institute of Mathematics, Polish Academy of Sciences -> Uniwersytet Warszawski',\n",
       "  25),\n",
       " ('University of Lwów -> Uniwersytet Warszawski', 28),\n",
       " ('Uniwersytet Jagielloński -> Uniwersytet Warszawski', 12),\n",
       " ('Lomonosov Moscow State University -> Uniwersytet Warszawski', 10),\n",
       " ('University of California, Berkeley -> Uniwersytet Warszawski', 17),\n",
       " ('Ivane Javakhishvili Tbilisi State University -> Uniwersytet Warszawski',\n",
       "  16),\n",
       " ('Uniwersytet Marii Curie-Skłodowskiej -> Uniwersytet Warszawski', 5),\n",
       " ('None -> Uniwersytet Warszawski', 11),\n",
       " ('Uniwersytet im. Adama Mickiewicza w Poznaniu -> Uniwersytet Warszawski', 5)]"
      ]
     },
     "execution_count": 287,
     "metadata": {},
     "output_type": "execute_result"
    }
   ],
   "source": [
    "[(name, count) for name, count in res_db.items() if count > 4] "
   ]
  },
  {
   "cell_type": "code",
   "execution_count": 296,
   "metadata": {},
   "outputs": [],
   "source": [
    "def get_mat_json(graph, idd, db):\n",
    "    reachable_nodes = nx.descendants(graph, idd)\n",
    "    reachable_nodes.add(idd)\n",
    "    res_g = nx.relabel_nodes(nx.subgraph(graph, reachable_nodes), {mat_id : mat['name'] for mat_id, mat in db.items()})\n",
    "    \n",
    "    return nx.tree_data(res_g , db[idd]['name'])"
   ]
  },
  {
   "cell_type": "code",
   "execution_count": 297,
   "metadata": {},
   "outputs": [
    {
     "data": {
      "text/plain": [
       "{'id': 'Stefan  Banach',\n",
       " 'children': [{'id': 'Stanislaw  Mazur',\n",
       "   'children': [{'id': 'Maciej  Altman'},\n",
       "    {'id': 'Andrzej Tadeusz Birkholc'},\n",
       "    {'id': 'Ryszard  Bittner'},\n",
       "    {'id': 'Tomasz  Bojdecki'},\n",
       "    {'id': 'Lej Tsin Gan'},\n",
       "    {'id': 'Witold  Kolodziej'},\n",
       "    {'id': 'Tadeusz Jan Lezanski'},\n",
       "    {'id': 'Wan Dzien Lu'},\n",
       "    {'id': 'Hanna  Marcinkowska'},\n",
       "    {'id': 'Krzysztof  Maurin',\n",
       "     'children': [{'id': 'Janusz  Czyż'},\n",
       "      {'id': 'Jan  Rogulski'},\n",
       "      {'id': 'Krzysztof  Gawędzki'},\n",
       "      {'id': 'Jerzy   Kijowski',\n",
       "       'children': [{'id': 'Jacek  Jezierski',\n",
       "         'children': [{'id': 'Witold  Chmielowiec'}]}]},\n",
       "      {'id': 'Jacek  Komorowski'},\n",
       "      {'id': 'Wojciech  Lisiecki'},\n",
       "      {'id': 'Kazimierz  Napiórkowski',\n",
       "       'children': [{'id': 'Slawomir  Klimek'}]},\n",
       "      {'id': 'Paweł  Urbański'},\n",
       "      {'id': 'Stanisław Lech Woronowicz',\n",
       "       'children': [{'id': 'Paweł Łukasz Kasprzak'},\n",
       "        {'id': 'Wiesław  Pusz'},\n",
       "        {'id': 'Piotr Mikołaj Sołtan'},\n",
       "        {'id': 'Igor  Szczyrba'}]}]},\n",
       "    {'id': 'Bogdan  Mi^Ü'},\n",
       "    {'id': 'Aleksander  Pełczyński',\n",
       "     'children': [{'id': 'Nicole  Tomczak-Jaegermann'},\n",
       "      {'id': 'Przemysław  Wojtaszczyk',\n",
       "       'children': [{'id': 'Paweł  Bechler'}, {'id': 'Tomasz  Wolniewicz'}]}]},\n",
       "    {'id': 'Stefan  Rolewicz'},\n",
       "    {'id': 'Maciej  Skwarczyński'},\n",
       "    {'id': 'Wieslaw  Szlenk'},\n",
       "    {'id': 'A.  Warzecha'},\n",
       "    {'id': 'Wieslaw  Zelazko', 'children': [{'id': 'Krzysztof  Jarosz'}]},\n",
       "    {'id': 'Czeslaw  Bessaga',\n",
       "     'children': [{'id': 'Henryk  Torunczyk',\n",
       "       'children': [{'id': 'Tadeusz Wladyslaw Dobrowolski'}]}]}]}]}"
      ]
     },
     "execution_count": 297,
     "metadata": {},
     "output_type": "execute_result"
    }
   ],
   "source": [
    "get_mat_json(graph, 12681, db)"
   ]
  },
  {
   "cell_type": "code",
   "execution_count": 299,
   "metadata": {},
   "outputs": [
    {
     "name": "stdout",
     "output_type": "stream",
     "text": [
      "Agnieszka  Badeńska Politechnika Warszawska\n",
      "Czesław  Bagiński Politechnika Warszawska\n",
      "Krystian Waldemar Baniak Politechnika Warszawska\n",
      "Konstancja  Bobecka Politechnika Warszawska\n",
      "Nadzieja  Borowik Politechnika Warszawska\n",
      "T.  Brengos Politechnika Warszawska\n",
      "Włodzimierz  Bryc Politechnika Warszawska\n",
      "Joanna  Chachulska Politechnika Warszawska\n",
      "Konrad  Ciecierski Politechnika Warszawska\n",
      "Janusz  Czyż Politechnika Warszawska\n",
      "Anna  Dembinska Politechnika Warszawska\n",
      "Asen Lubomirov Dontchev Politechnika Warszawska\n"
     ]
    }
   ],
   "source": [
    "for i, e in enumerate(db.values()):\n",
    "    print(e['name'], e['school'])\n",
    "    if i > 10:\n",
    "        break"
   ]
  }
 ],
 "metadata": {
  "kernelspec": {
   "display_name": "Python 3",
   "language": "python",
   "name": "python3"
  },
  "language_info": {
   "codemirror_mode": {
    "name": "ipython",
    "version": 3
   },
   "file_extension": ".py",
   "mimetype": "text/x-python",
   "name": "python",
   "nbconvert_exporter": "python",
   "pygments_lexer": "ipython3",
   "version": "3.6.6"
  }
 },
 "nbformat": 4,
 "nbformat_minor": 2
}
